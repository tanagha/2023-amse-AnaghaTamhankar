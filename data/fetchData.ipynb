{
 "cells": [
  {
   "cell_type": "code",
   "execution_count": 3,
   "metadata": {},
   "outputs": [],
   "source": [
    "import pandas as pd\n",
    "from geopy.geocoders import Nominatim\n",
    "from tqdm.auto import tqdm\n",
    "tqdm.pandas()\n",
    "import logging"
   ]
  },
  {
   "cell_type": "code",
   "execution_count": 3,
   "metadata": {},
   "outputs": [
    {
     "name": "stderr",
     "output_type": "stream",
     "text": [
      "C:\\Users\\anagh\\AppData\\Local\\Temp\\ipykernel_24820\\1956291180.py:4: DtypeWarning: Columns (9) have mixed types. Specify dtype option on import or set low_memory=False.\n",
      "  bussgeld = pd.read_csv(bussgeld_url,  delimiter=';', on_bad_lines='skip')\n"
     ]
    }
   ],
   "source": [
    "# URL of the CSV file\n",
    "bussgeld_url = \"https://offenedaten-koeln.de/sites/default/files/Bussgeld_2021.csv\"\n",
    "# Read the CSV file using pandas\n",
    "bussgeld = pd.read_csv(bussgeld_url,  delimiter=';', on_bad_lines='skip')"
   ]
  },
  {
   "cell_type": "code",
   "execution_count": 4,
   "metadata": {},
   "outputs": [
    {
     "data": {
      "text/html": [
       "<div>\n",
       "<style scoped>\n",
       "    .dataframe tbody tr th:only-of-type {\n",
       "        vertical-align: middle;\n",
       "    }\n",
       "\n",
       "    .dataframe tbody tr th {\n",
       "        vertical-align: top;\n",
       "    }\n",
       "\n",
       "    .dataframe thead th {\n",
       "        text-align: right;\n",
       "    }\n",
       "</style>\n",
       "<table border=\"1\" class=\"dataframe\">\n",
       "  <thead>\n",
       "    <tr style=\"text-align: right;\">\n",
       "      <th></th>\n",
       "      <th>Jahr</th>\n",
       "      <th>Monat</th>\n",
       "      <th>datum_von</th>\n",
       "      <th>kennzeichen1</th>\n",
       "      <th>fahrzeugart</th>\n",
       "      <th>fabrikat</th>\n",
       "      <th>strasse</th>\n",
       "      <th>hausnummer</th>\n",
       "      <th>tatbestand1</th>\n",
       "      <th>tatbestand2</th>\n",
       "      <th>tatbestand3</th>\n",
       "    </tr>\n",
       "  </thead>\n",
       "  <tbody>\n",
       "    <tr>\n",
       "      <th>0</th>\n",
       "      <td>2021</td>\n",
       "      <td>1</td>\n",
       "      <td>2021-01-14 08:32:00.000</td>\n",
       "      <td>MG</td>\n",
       "      <td>PKW</td>\n",
       "      <td>FIAT</td>\n",
       "      <td>BEETHOVENSTR.</td>\n",
       "      <td>Mai 13</td>\n",
       "      <td>141324</td>\n",
       "      <td>NaN</td>\n",
       "      <td>NaN</td>\n",
       "    </tr>\n",
       "    <tr>\n",
       "      <th>1</th>\n",
       "      <td>2021</td>\n",
       "      <td>1</td>\n",
       "      <td>2021-01-14 13:23:00.000</td>\n",
       "      <td>BM</td>\n",
       "      <td>PKW</td>\n",
       "      <td>OPEL</td>\n",
       "      <td>HOHENSTAUFENRING</td>\n",
       "      <td>61</td>\n",
       "      <td>141322</td>\n",
       "      <td>NaN</td>\n",
       "      <td>NaN</td>\n",
       "    </tr>\n",
       "    <tr>\n",
       "      <th>2</th>\n",
       "      <td>2021</td>\n",
       "      <td>1</td>\n",
       "      <td>2021-01-14 13:23:00.000</td>\n",
       "      <td>K</td>\n",
       "      <td>PKW</td>\n",
       "      <td>VW-VOLKSWAGEN</td>\n",
       "      <td>HOHENSTAUFENRING</td>\n",
       "      <td>57A</td>\n",
       "      <td>141322</td>\n",
       "      <td>NaN</td>\n",
       "      <td>NaN</td>\n",
       "    </tr>\n",
       "    <tr>\n",
       "      <th>3</th>\n",
       "      <td>2021</td>\n",
       "      <td>1</td>\n",
       "      <td>2021-01-14 09:25:00.000</td>\n",
       "      <td>K</td>\n",
       "      <td>PKW</td>\n",
       "      <td>FORD</td>\n",
       "      <td>LINDENSTR.</td>\n",
       "      <td>52</td>\n",
       "      <td>141324</td>\n",
       "      <td>NaN</td>\n",
       "      <td>NaN</td>\n",
       "    </tr>\n",
       "    <tr>\n",
       "      <th>4</th>\n",
       "      <td>2021</td>\n",
       "      <td>1</td>\n",
       "      <td>2021-01-14 14:25:00.000</td>\n",
       "      <td>M</td>\n",
       "      <td>PKW</td>\n",
       "      <td>VW-VOLKSWAGEN</td>\n",
       "      <td>MOLTKESTR.</td>\n",
       "      <td>NaN</td>\n",
       "      <td>141322</td>\n",
       "      <td>NaN</td>\n",
       "      <td>NaN</td>\n",
       "    </tr>\n",
       "    <tr>\n",
       "      <th>...</th>\n",
       "      <td>...</td>\n",
       "      <td>...</td>\n",
       "      <td>...</td>\n",
       "      <td>...</td>\n",
       "      <td>...</td>\n",
       "      <td>...</td>\n",
       "      <td>...</td>\n",
       "      <td>...</td>\n",
       "      <td>...</td>\n",
       "      <td>...</td>\n",
       "      <td>...</td>\n",
       "    </tr>\n",
       "    <tr>\n",
       "      <th>589084</th>\n",
       "      <td>2021</td>\n",
       "      <td>12</td>\n",
       "      <td>2021-12-17 10:06:00.000</td>\n",
       "      <td>BM</td>\n",
       "      <td>PKW</td>\n",
       "      <td>SMART</td>\n",
       "      <td>DÜRENER STR.</td>\n",
       "      <td>240</td>\n",
       "      <td>113140</td>\n",
       "      <td>NaN</td>\n",
       "      <td>NaN</td>\n",
       "    </tr>\n",
       "    <tr>\n",
       "      <th>589085</th>\n",
       "      <td>2021</td>\n",
       "      <td>12</td>\n",
       "      <td>2021-12-17 10:06:00.000</td>\n",
       "      <td>BM</td>\n",
       "      <td>PKW</td>\n",
       "      <td>VW-VOLKSWAGEN</td>\n",
       "      <td>DÜRENER STR.</td>\n",
       "      <td>238</td>\n",
       "      <td>113143</td>\n",
       "      <td>NaN</td>\n",
       "      <td>NaN</td>\n",
       "    </tr>\n",
       "    <tr>\n",
       "      <th>589086</th>\n",
       "      <td>2021</td>\n",
       "      <td>12</td>\n",
       "      <td>2021-12-17 10:00:00.000</td>\n",
       "      <td>PB</td>\n",
       "      <td>PKW</td>\n",
       "      <td>BMW</td>\n",
       "      <td>DÜRENER STR.</td>\n",
       "      <td>244</td>\n",
       "      <td>113144</td>\n",
       "      <td>NaN</td>\n",
       "      <td>NaN</td>\n",
       "    </tr>\n",
       "    <tr>\n",
       "      <th>589087</th>\n",
       "      <td>2021</td>\n",
       "      <td>12</td>\n",
       "      <td>2021-12-14 11:19:00.000</td>\n",
       "      <td>K</td>\n",
       "      <td>PKW</td>\n",
       "      <td>MERCEDES</td>\n",
       "      <td>ZÜLPICHER STR.</td>\n",
       "      <td>311</td>\n",
       "      <td>142284</td>\n",
       "      <td>NaN</td>\n",
       "      <td>NaN</td>\n",
       "    </tr>\n",
       "    <tr>\n",
       "      <th>589088</th>\n",
       "      <td>2021</td>\n",
       "      <td>12</td>\n",
       "      <td>2021-12-14 11:58:00.000</td>\n",
       "      <td>K</td>\n",
       "      <td>PKW</td>\n",
       "      <td>BMW</td>\n",
       "      <td>BERRENRATHER STR.</td>\n",
       "      <td>NaN</td>\n",
       "      <td>112454</td>\n",
       "      <td>NaN</td>\n",
       "      <td>NaN</td>\n",
       "    </tr>\n",
       "  </tbody>\n",
       "</table>\n",
       "<p>589089 rows × 11 columns</p>\n",
       "</div>"
      ],
      "text/plain": [
       "        Jahr   Monat                 datum_von kennzeichen1 fahrzeugart  \\\n",
       "0        2021       1  2021-01-14 08:32:00.000           MG         PKW   \n",
       "1        2021       1  2021-01-14 13:23:00.000           BM         PKW   \n",
       "2        2021       1  2021-01-14 13:23:00.000            K         PKW   \n",
       "3        2021       1  2021-01-14 09:25:00.000            K         PKW   \n",
       "4        2021       1  2021-01-14 14:25:00.000            M         PKW   \n",
       "...       ...     ...                      ...          ...         ...   \n",
       "589084   2021      12  2021-12-17 10:06:00.000           BM         PKW   \n",
       "589085   2021      12  2021-12-17 10:06:00.000           BM         PKW   \n",
       "589086   2021      12  2021-12-17 10:00:00.000           PB         PKW   \n",
       "589087   2021      12  2021-12-14 11:19:00.000            K         PKW   \n",
       "589088   2021      12  2021-12-14 11:58:00.000            K         PKW   \n",
       "\n",
       "             fabrikat            strasse hausnummer  tatbestand1 tatbestand2  \\\n",
       "0                FIAT      BEETHOVENSTR.     Mai 13       141324         NaN   \n",
       "1                OPEL   HOHENSTAUFENRING         61       141322         NaN   \n",
       "2       VW-VOLKSWAGEN   HOHENSTAUFENRING        57A       141322         NaN   \n",
       "3                FORD         LINDENSTR.         52       141324         NaN   \n",
       "4       VW-VOLKSWAGEN         MOLTKESTR.        NaN       141322         NaN   \n",
       "...               ...                ...        ...          ...         ...   \n",
       "589084          SMART       DÜRENER STR.        240       113140         NaN   \n",
       "589085  VW-VOLKSWAGEN       DÜRENER STR.        238       113143         NaN   \n",
       "589086            BMW       DÜRENER STR.        244       113144         NaN   \n",
       "589087       MERCEDES     ZÜLPICHER STR.        311       142284         NaN   \n",
       "589088            BMW  BERRENRATHER STR.        NaN       112454         NaN   \n",
       "\n",
       "        tatbestand3  \n",
       "0               NaN  \n",
       "1               NaN  \n",
       "2               NaN  \n",
       "3               NaN  \n",
       "4               NaN  \n",
       "...             ...  \n",
       "589084          NaN  \n",
       "589085          NaN  \n",
       "589086          NaN  \n",
       "589087          NaN  \n",
       "589088          NaN  \n",
       "\n",
       "[589089 rows x 11 columns]"
      ]
     },
     "execution_count": 4,
     "metadata": {},
     "output_type": "execute_result"
    }
   ],
   "source": [
    "bussgeld"
   ]
  },
  {
   "cell_type": "code",
   "execution_count": 100,
   "metadata": {},
   "outputs": [],
   "source": [
    "# URL of the CSV file\n",
    "lsa_url1 = \"https://offenedaten-koeln.de/sites/default/files/2023_LSA_Koeln.csv\"            \n",
    "lsa_url2 = \"https://offenedaten-koeln.de/sites/default/files/20181116_LSA_Ko%CC%88ln.csv\"\n",
    "lsa_url3 = \"https://offenedaten-koeln.de/sites/default/files/20131118_lsa_koordinaten_wgs84.csv\"\n",
    "# Read the CSV file using pandas\n",
    "lsa1 = pd.read_csv(lsa_url1,  delimiter=';', on_bad_lines='skip')\n",
    "lsa2 = pd.read_csv(lsa_url2,  delimiter=';', on_bad_lines='skip', encoding= 'latin-1')\n",
    "lsa3 = pd.read_csv(lsa_url3,  delimiter=';', on_bad_lines='skip')"
   ]
  },
  {
   "cell_type": "code",
   "execution_count": 101,
   "metadata": {},
   "outputs": [],
   "source": [
    "lsa1.rename(columns={'X-Koordinate': 'X', 'Y-Koordinate': 'Y'}, inplace=True)"
   ]
  },
  {
   "cell_type": "code",
   "execution_count": 102,
   "metadata": {},
   "outputs": [],
   "source": [
    "# Identify the unique column present in all three datasets\n",
    "unique_column = 'LSA-Nr.'\n",
    "\n",
    "# Select the four columns to keep from each dataset\n",
    "columns_to_keep = ['LSA-Nr.', 'Standort', 'X', 'Y']\n",
    "\n",
    "# Keep only the selected columns in each dataset\n",
    "dataset1 = lsa1[columns_to_keep]\n",
    "dataset2 = lsa2[columns_to_keep]\n",
    "dataset3 = lsa3[columns_to_keep]\n"
   ]
  },
  {
   "cell_type": "code",
   "execution_count": 103,
   "metadata": {},
   "outputs": [
    {
     "name": "stderr",
     "output_type": "stream",
     "text": [
      "C:\\Users\\anagh\\AppData\\Local\\Temp\\ipykernel_33936\\1743010352.py:1: SettingWithCopyWarning: \n",
      "A value is trying to be set on a copy of a slice from a DataFrame.\n",
      "Try using .loc[row_indexer,col_indexer] = value instead\n",
      "\n",
      "See the caveats in the documentation: https://pandas.pydata.org/pandas-docs/stable/user_guide/indexing.html#returning-a-view-versus-a-copy\n",
      "  dataset2['LSA-Nr.'] = dataset2['LSA-Nr.'].astype(str)\n"
     ]
    },
    {
     "data": {
      "text/plain": [
       "(2903, 4)"
      ]
     },
     "execution_count": 103,
     "metadata": {},
     "output_type": "execute_result"
    }
   ],
   "source": [
    "dataset2['LSA-Nr.'] = dataset2['LSA-Nr.'].astype(str)\n",
    "dataset3['LSA-Nr.'] = dataset3['LSA-Nr.'].astype(str)\n",
    "merged_dataset = pd.concat([dataset1, dataset2, dataset3], ignore_index=True)\n",
    "merged_dataset.shape"
   ]
  },
  {
   "cell_type": "code",
   "execution_count": 104,
   "metadata": {},
   "outputs": [],
   "source": [
    "merged_dataset.drop_duplicates(subset=[unique_column], inplace=True)"
   ]
  },
  {
   "cell_type": "code",
   "execution_count": 105,
   "metadata": {},
   "outputs": [
    {
     "data": {
      "text/plain": [
       "(1969, 4)"
      ]
     },
     "execution_count": 105,
     "metadata": {},
     "output_type": "execute_result"
    }
   ],
   "source": [
    "merged_dataset.shape"
   ]
  },
  {
   "cell_type": "code",
   "execution_count": 106,
   "metadata": {},
   "outputs": [],
   "source": [
    "merged_dataset.to_csv('LSA.csv', index=False)  "
   ]
  },
  {
   "cell_type": "code",
   "execution_count": 107,
   "metadata": {},
   "outputs": [],
   "source": [
    "# Create a geocoder instance\n",
    "geolocator = Nominatim(user_agent=\"saki\")"
   ]
  },
  {
   "cell_type": "code",
   "execution_count": 34,
   "metadata": {},
   "outputs": [],
   "source": [
    "def getLatAndLong(row):\n",
    "    latitude = 0.00\n",
    "    longitude = 0.00\n",
    "    strasse = row['strasse']\n",
    "    hausnummer = row['hausnummer']\n",
    "    street_name = str(strasse) + \" \" + str(hausnummer)\n",
    "    try:\n",
    "        location = geolocator.geocode(f\"{street_name}, Köln, Germany\")\n",
    "        latitude = location.latitude\n",
    "        longitude = location.longitude\n",
    "        return latitude, longitude\n",
    "    except:\n",
    "        logging.info(\"Trying without hausnummer\")\n",
    "        street_name = str(strasse)\n",
    "        try:\n",
    "            location = geolocator.geocode(f\"{street_name}, Köln, Germany\")\n",
    "            latitude = location.latitude\n",
    "            longitude = location.longitude\n",
    "            return latitude, longitude\n",
    "        except:\n",
    "            logging.info(\"No geocode found\")\n",
    "            return latitude, longitude"
   ]
  },
  {
   "cell_type": "code",
   "execution_count": 35,
   "metadata": {},
   "outputs": [],
   "source": [
    "bussgeld = bussgeld[bussgeld[\"Monat \"] <= 3]"
   ]
  },
  {
   "cell_type": "code",
   "execution_count": 37,
   "metadata": {},
   "outputs": [
    {
     "data": {
      "application/vnd.jupyter.widget-view+json": {
       "model_id": "f4debf1ab95f4b5dbd125745d69b729f",
       "version_major": 2,
       "version_minor": 0
      },
      "text/plain": [
       "  0%|          | 0/147018 [00:00<?, ?it/s]"
      ]
     },
     "metadata": {},
     "output_type": "display_data"
    },
    {
     "name": "stderr",
     "output_type": "stream",
     "text": [
      "C:\\Users\\anagh\\AppData\\Local\\Temp\\ipykernel_3304\\3248858535.py:1: SettingWithCopyWarning: \n",
      "A value is trying to be set on a copy of a slice from a DataFrame.\n",
      "Try using .loc[row_indexer,col_indexer] = value instead\n",
      "\n",
      "See the caveats in the documentation: https://pandas.pydata.org/pandas-docs/stable/user_guide/indexing.html#returning-a-view-versus-a-copy\n",
      "  bussgeld['latAndlong'] = bussgeld.progress_apply(getLatAndLong, axis=1)\n"
     ]
    }
   ],
   "source": [
    "bussgeld['latAndlong'] = bussgeld.progress_apply(getLatAndLong, axis=1)"
   ]
  },
  {
   "cell_type": "code",
   "execution_count": 38,
   "metadata": {},
   "outputs": [],
   "source": [
    "bussgeld.to_csv('bussgeldWithLat.csv')  "
   ]
  },
  {
   "cell_type": "code",
   "execution_count": null,
   "metadata": {},
   "outputs": [],
   "source": []
  }
 ],
 "metadata": {
  "kernelspec": {
   "display_name": "sakiEnv",
   "language": "python",
   "name": "python3"
  },
  "language_info": {
   "codemirror_mode": {
    "name": "ipython",
    "version": 3
   },
   "file_extension": ".py",
   "mimetype": "text/x-python",
   "name": "python",
   "nbconvert_exporter": "python",
   "pygments_lexer": "ipython3",
   "version": "3.11.3"
  },
  "orig_nbformat": 4
 },
 "nbformat": 4,
 "nbformat_minor": 2
}
