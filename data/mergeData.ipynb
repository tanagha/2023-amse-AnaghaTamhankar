{
 "cells": [
  {
   "attachments": {},
   "cell_type": "markdown",
   "metadata": {},
   "source": [
    "## Install dependencies"
   ]
  },
  {
   "cell_type": "code",
   "execution_count": 8,
   "metadata": {},
   "outputs": [],
   "source": [
    "import pandas as pd\n",
    "from geopy.geocoders import Nominatim\n",
    "from tqdm.auto import tqdm\n",
    "tqdm.pandas()"
   ]
  },
  {
   "attachments": {},
   "cell_type": "markdown",
   "metadata": {},
   "source": [
    "## Load data"
   ]
  },
  {
   "cell_type": "code",
   "execution_count": 9,
   "metadata": {},
   "outputs": [],
   "source": [
    "LSA = pd.read_csv('LSA.csv')\n",
    "bussgeld = pd.read_csv('bussgeld.csv')"
   ]
  },
  {
   "attachments": {},
   "cell_type": "markdown",
   "metadata": {},
   "source": [
    "### Look at the first rows"
   ]
  },
  {
   "cell_type": "code",
   "execution_count": 10,
   "metadata": {},
   "outputs": [
    {
     "data": {
      "text/html": [
       "<div>\n",
       "<style scoped>\n",
       "    .dataframe tbody tr th:only-of-type {\n",
       "        vertical-align: middle;\n",
       "    }\n",
       "\n",
       "    .dataframe tbody tr th {\n",
       "        vertical-align: top;\n",
       "    }\n",
       "\n",
       "    .dataframe thead th {\n",
       "        text-align: right;\n",
       "    }\n",
       "</style>\n",
       "<table border=\"1\" class=\"dataframe\">\n",
       "  <thead>\n",
       "    <tr style=\"text-align: right;\">\n",
       "      <th></th>\n",
       "      <th>LSA-Nr.</th>\n",
       "      <th>Standort</th>\n",
       "      <th>X</th>\n",
       "      <th>Y</th>\n",
       "    </tr>\n",
       "  </thead>\n",
       "  <tbody>\n",
       "    <tr>\n",
       "      <th>0</th>\n",
       "      <td>1617</td>\n",
       "      <td>Aachener Straße / Aachener Weiher / Richard-Wa...</td>\n",
       "      <td>6.928991127434393</td>\n",
       "      <td>50.93643440813894</td>\n",
       "    </tr>\n",
       "    <tr>\n",
       "      <th>1</th>\n",
       "      <td>3634</td>\n",
       "      <td>Aachener Straße / Alter Militärring / Auf dem ...</td>\n",
       "      <td>6.881019581929463</td>\n",
       "      <td>50.93772515159249</td>\n",
       "    </tr>\n",
       "    <tr>\n",
       "      <th>2</th>\n",
       "      <td>3656</td>\n",
       "      <td>Aachener Straße / Am Rapohl / Bodelschwinghstraße</td>\n",
       "      <td>6.822827155149226</td>\n",
       "      <td>50.93851403303879</td>\n",
       "    </tr>\n",
       "    <tr>\n",
       "      <th>3</th>\n",
       "      <td>3639</td>\n",
       "      <td>Aachener Straße / Am Römerhof</td>\n",
       "      <td>6.867657727348872</td>\n",
       "      <td>50.93780279398538</td>\n",
       "    </tr>\n",
       "    <tr>\n",
       "      <th>4</th>\n",
       "      <td>3638</td>\n",
       "      <td>Aachener Straße / Am Sportpark Müngersdorf / M...</td>\n",
       "      <td>6.870816665405981</td>\n",
       "      <td>50.93783319888283</td>\n",
       "    </tr>\n",
       "  </tbody>\n",
       "</table>\n",
       "</div>"
      ],
      "text/plain": [
       "  LSA-Nr.                                           Standort  \\\n",
       "0    1617  Aachener Straße / Aachener Weiher / Richard-Wa...   \n",
       "1    3634  Aachener Straße / Alter Militärring / Auf dem ...   \n",
       "2    3656  Aachener Straße / Am Rapohl / Bodelschwinghstraße   \n",
       "3    3639                      Aachener Straße / Am Römerhof   \n",
       "4    3638  Aachener Straße / Am Sportpark Müngersdorf / M...   \n",
       "\n",
       "                   X                  Y  \n",
       "0  6.928991127434393  50.93643440813894  \n",
       "1  6.881019581929463  50.93772515159249  \n",
       "2  6.822827155149226  50.93851403303879  \n",
       "3  6.867657727348872  50.93780279398538  \n",
       "4  6.870816665405981  50.93783319888283  "
      ]
     },
     "execution_count": 10,
     "metadata": {},
     "output_type": "execute_result"
    }
   ],
   "source": [
    "LSA.head()"
   ]
  },
  {
   "cell_type": "code",
   "execution_count": 11,
   "metadata": {},
   "outputs": [
    {
     "name": "stdout",
     "output_type": "stream",
     "text": [
      "(1969, 4)\n",
      "(1969, 4)\n",
      "(1857, 4)\n"
     ]
    }
   ],
   "source": [
    "indexL = []\n",
    "print(LSA.shape)\n",
    "for index, row in LSA.iterrows():\n",
    "    # Check if the column value contains a comma\n",
    "    if ',' in str(row['X']):\n",
    "        # Remove the row\n",
    "        indexL.append(index)\n",
    "len(indexL)\n",
    "print(LSA.shape)\n",
    "LSA.drop(indexL, inplace=True)\n",
    "print(LSA.shape)"
   ]
  },
  {
   "cell_type": "code",
   "execution_count": 12,
   "metadata": {},
   "outputs": [],
   "source": [
    "geolocator = Nominatim(user_agent=\"sakiExploration\")\n",
    "def get_zipcode(row):\n",
    "    zipcode = 0\n",
    "    location = geolocator.reverse((row['Y'], row['X']))\n",
    "    try:\n",
    "        zipcode = location.raw['address']['postcode']\n",
    "        return zipcode\n",
    "    except:\n",
    "        return zipcode"
   ]
  },
  {
   "cell_type": "code",
   "execution_count": 13,
   "metadata": {},
   "outputs": [
    {
     "data": {
      "application/vnd.jupyter.widget-view+json": {
       "model_id": "dabda98ebccf4774bc93de28c77fcd9e",
       "version_major": 2,
       "version_minor": 0
      },
      "text/plain": [
       "  0%|          | 0/1857 [00:00<?, ?it/s]"
      ]
     },
     "metadata": {},
     "output_type": "display_data"
    }
   ],
   "source": [
    "LSA['zipcode'] = LSA.progress_apply(get_zipcode, axis = 1)"
   ]
  },
  {
   "cell_type": "code",
   "execution_count": 14,
   "metadata": {},
   "outputs": [
    {
     "data": {
      "text/html": [
       "<div>\n",
       "<style scoped>\n",
       "    .dataframe tbody tr th:only-of-type {\n",
       "        vertical-align: middle;\n",
       "    }\n",
       "\n",
       "    .dataframe tbody tr th {\n",
       "        vertical-align: top;\n",
       "    }\n",
       "\n",
       "    .dataframe thead th {\n",
       "        text-align: right;\n",
       "    }\n",
       "</style>\n",
       "<table border=\"1\" class=\"dataframe\">\n",
       "  <thead>\n",
       "    <tr style=\"text-align: right;\">\n",
       "      <th></th>\n",
       "      <th>LSA-Nr.</th>\n",
       "      <th>Standort</th>\n",
       "      <th>X</th>\n",
       "      <th>Y</th>\n",
       "      <th>zipcode</th>\n",
       "    </tr>\n",
       "  </thead>\n",
       "  <tbody>\n",
       "    <tr>\n",
       "      <th>0</th>\n",
       "      <td>1617</td>\n",
       "      <td>Aachener Straße / Aachener Weiher / Richard-Wa...</td>\n",
       "      <td>6.928991127434393</td>\n",
       "      <td>50.93643440813894</td>\n",
       "      <td>50674</td>\n",
       "    </tr>\n",
       "    <tr>\n",
       "      <th>1</th>\n",
       "      <td>3634</td>\n",
       "      <td>Aachener Straße / Alter Militärring / Auf dem ...</td>\n",
       "      <td>6.881019581929463</td>\n",
       "      <td>50.93772515159249</td>\n",
       "      <td>50933</td>\n",
       "    </tr>\n",
       "    <tr>\n",
       "      <th>2</th>\n",
       "      <td>3656</td>\n",
       "      <td>Aachener Straße / Am Rapohl / Bodelschwinghstraße</td>\n",
       "      <td>6.822827155149226</td>\n",
       "      <td>50.93851403303879</td>\n",
       "      <td>50859</td>\n",
       "    </tr>\n",
       "    <tr>\n",
       "      <th>3</th>\n",
       "      <td>3639</td>\n",
       "      <td>Aachener Straße / Am Römerhof</td>\n",
       "      <td>6.867657727348872</td>\n",
       "      <td>50.93780279398538</td>\n",
       "      <td>50933</td>\n",
       "    </tr>\n",
       "    <tr>\n",
       "      <th>4</th>\n",
       "      <td>3638</td>\n",
       "      <td>Aachener Straße / Am Sportpark Müngersdorf / M...</td>\n",
       "      <td>6.870816665405981</td>\n",
       "      <td>50.93783319888283</td>\n",
       "      <td>50933</td>\n",
       "    </tr>\n",
       "  </tbody>\n",
       "</table>\n",
       "</div>"
      ],
      "text/plain": [
       "  LSA-Nr.                                           Standort  \\\n",
       "0    1617  Aachener Straße / Aachener Weiher / Richard-Wa...   \n",
       "1    3634  Aachener Straße / Alter Militärring / Auf dem ...   \n",
       "2    3656  Aachener Straße / Am Rapohl / Bodelschwinghstraße   \n",
       "3    3639                      Aachener Straße / Am Römerhof   \n",
       "4    3638  Aachener Straße / Am Sportpark Müngersdorf / M...   \n",
       "\n",
       "                   X                  Y zipcode  \n",
       "0  6.928991127434393  50.93643440813894   50674  \n",
       "1  6.881019581929463  50.93772515159249   50933  \n",
       "2  6.822827155149226  50.93851403303879   50859  \n",
       "3  6.867657727348872  50.93780279398538   50933  \n",
       "4  6.870816665405981  50.93783319888283   50933  "
      ]
     },
     "execution_count": 14,
     "metadata": {},
     "output_type": "execute_result"
    }
   ],
   "source": [
    "LSA = LSA[LSA['zipcode'] != 0]\n",
    "LSA.head()"
   ]
  },
  {
   "cell_type": "code",
   "execution_count": 23,
   "metadata": {},
   "outputs": [],
   "source": [
    "LSA['X'] = LSA['X'].astype(float)\n",
    "LSA['Y'] = LSA['Y'].astype(float)"
   ]
  },
  {
   "cell_type": "code",
   "execution_count": 24,
   "metadata": {},
   "outputs": [],
   "source": [
    "LSA.to_csv('LSA.csv', index=False)  "
   ]
  },
  {
   "cell_type": "code",
   "execution_count": 16,
   "metadata": {},
   "outputs": [
    {
     "data": {
      "application/vnd.jupyter.widget-view+json": {
       "model_id": "9069734b31674f7e835c3e1487f4c4f1",
       "version_major": 2,
       "version_minor": 0
      },
      "text/plain": [
       "  0%|          | 0/147018 [00:00<?, ?it/s]"
      ]
     },
     "metadata": {},
     "output_type": "display_data"
    },
    {
     "data": {
      "application/vnd.jupyter.widget-view+json": {
       "model_id": "85a56a54bbec42289fef46179ae86c65",
       "version_major": 2,
       "version_minor": 0
      },
      "text/plain": [
       "  0%|          | 0/147018 [00:00<?, ?it/s]"
      ]
     },
     "metadata": {},
     "output_type": "display_data"
    },
    {
     "data": {
      "text/html": [
       "<div>\n",
       "<style scoped>\n",
       "    .dataframe tbody tr th:only-of-type {\n",
       "        vertical-align: middle;\n",
       "    }\n",
       "\n",
       "    .dataframe tbody tr th {\n",
       "        vertical-align: top;\n",
       "    }\n",
       "\n",
       "    .dataframe thead th {\n",
       "        text-align: right;\n",
       "    }\n",
       "</style>\n",
       "<table border=\"1\" class=\"dataframe\">\n",
       "  <thead>\n",
       "    <tr style=\"text-align: right;\">\n",
       "      <th></th>\n",
       "      <th>datum_von</th>\n",
       "      <th>kennzeichen1</th>\n",
       "      <th>fahrzeugart</th>\n",
       "      <th>fabrikat</th>\n",
       "      <th>latAndlong</th>\n",
       "      <th>Y</th>\n",
       "      <th>X</th>\n",
       "    </tr>\n",
       "  </thead>\n",
       "  <tbody>\n",
       "    <tr>\n",
       "      <th>0</th>\n",
       "      <td>2021-01-14 08:32:00.000</td>\n",
       "      <td>MG</td>\n",
       "      <td>PKW</td>\n",
       "      <td>FIAT</td>\n",
       "      <td>(50.9316361, 6.9370651)</td>\n",
       "      <td>50.931636</td>\n",
       "      <td>6.937065</td>\n",
       "    </tr>\n",
       "    <tr>\n",
       "      <th>1</th>\n",
       "      <td>2021-01-14 13:23:00.000</td>\n",
       "      <td>BM</td>\n",
       "      <td>PKW</td>\n",
       "      <td>OPEL</td>\n",
       "      <td>(50.9343146, 6.9391205)</td>\n",
       "      <td>50.934315</td>\n",
       "      <td>6.939120</td>\n",
       "    </tr>\n",
       "    <tr>\n",
       "      <th>2</th>\n",
       "      <td>2021-01-14 13:23:00.000</td>\n",
       "      <td>K</td>\n",
       "      <td>PKW</td>\n",
       "      <td>VW-VOLKSWAGEN</td>\n",
       "      <td>(50.9340377, 6.9392313122363465)</td>\n",
       "      <td>50.934038</td>\n",
       "      <td>6.939231</td>\n",
       "    </tr>\n",
       "    <tr>\n",
       "      <th>3</th>\n",
       "      <td>2021-01-14 09:25:00.000</td>\n",
       "      <td>K</td>\n",
       "      <td>PKW</td>\n",
       "      <td>FORD</td>\n",
       "      <td>(50.9336412, 6.9353042)</td>\n",
       "      <td>50.933641</td>\n",
       "      <td>6.935304</td>\n",
       "    </tr>\n",
       "    <tr>\n",
       "      <th>4</th>\n",
       "      <td>2021-01-14 14:25:00.000</td>\n",
       "      <td>M</td>\n",
       "      <td>PKW</td>\n",
       "      <td>VW-VOLKSWAGEN</td>\n",
       "      <td>(50.9363573, 6.9327157)</td>\n",
       "      <td>50.936357</td>\n",
       "      <td>6.932716</td>\n",
       "    </tr>\n",
       "  </tbody>\n",
       "</table>\n",
       "</div>"
      ],
      "text/plain": [
       "                 datum_von kennzeichen1 fahrzeugart       fabrikat  \\\n",
       "0  2021-01-14 08:32:00.000           MG         PKW           FIAT   \n",
       "1  2021-01-14 13:23:00.000           BM         PKW           OPEL   \n",
       "2  2021-01-14 13:23:00.000            K         PKW  VW-VOLKSWAGEN   \n",
       "3  2021-01-14 09:25:00.000            K         PKW           FORD   \n",
       "4  2021-01-14 14:25:00.000            M         PKW  VW-VOLKSWAGEN   \n",
       "\n",
       "                         latAndlong          Y         X  \n",
       "0           (50.9316361, 6.9370651)  50.931636  6.937065  \n",
       "1           (50.9343146, 6.9391205)  50.934315  6.939120  \n",
       "2  (50.9340377, 6.9392313122363465)  50.934038  6.939231  \n",
       "3           (50.9336412, 6.9353042)  50.933641  6.935304  \n",
       "4           (50.9363573, 6.9327157)  50.936357  6.932716  "
      ]
     },
     "execution_count": 16,
     "metadata": {},
     "output_type": "execute_result"
    }
   ],
   "source": [
    "bussgeld = bussgeld[['datum_von', 'kennzeichen1', 'fahrzeugart', 'fabrikat', 'latAndlong']]\n",
    "bussgeld['latAndlong'] = bussgeld['latAndlong'].progress_apply(lambda x : eval(x))\n",
    "bussgeld[['Y','X']] = bussgeld['latAndlong'].progress_apply(pd.Series)\n",
    "bussgeld = bussgeld[bussgeld['X'] != 0.0]\n",
    "bussgeld.drop('latAndlong', axis=1)\n",
    "bussgeld.head()\n"
   ]
  },
  {
   "cell_type": "code",
   "execution_count": 60,
   "metadata": {},
   "outputs": [],
   "source": [
    "from scipy.spatial import distance\n",
    "def get_nearest_trafficlight(X, Y, dataTrafficLight):\n",
    "    # Define the violation location coordinates (latitude and longitude)\n",
    "    violation_X= X \n",
    "    violation_Y = Y \n",
    "    \n",
    "    # Calculate the distance between the violation location and each traffic light\n",
    "    distances = []\n",
    "    for index, row in dataTrafficLight.iterrows():\n",
    "        light_X = row['X']  \n",
    "        light_Y = row['Y']  \n",
    "\n",
    "        # Calculate the Euclidean distance between the violation location and the current traffic light\n",
    "        dist = distance.euclidean((violation_X, violation_Y), (light_X, light_Y))\n",
    "        distances.append(dist)\n",
    "\n",
    "    # Find the index of the nearest traffic light\n",
    "    nearest_light_index = distances.index(min(distances))\n",
    "    return dataTrafficLight.iloc[nearest_light_index]['LSA-Nr.']"
   ]
  },
  {
   "cell_type": "code",
   "execution_count": 79,
   "metadata": {},
   "outputs": [
    {
     "data": {
      "application/vnd.jupyter.widget-view+json": {
       "model_id": "ee9b66d3af5741509d8c9b53186ad325",
       "version_major": 2,
       "version_minor": 0
      },
      "text/plain": [
       "  0%|          | 0/142491 [00:00<?, ?it/s]"
      ]
     },
     "metadata": {},
     "output_type": "display_data"
    }
   ],
   "source": [
    "bussgeld['LSA_Nr'] = bussgeld[['X','Y']].progress_apply(lambda r: get_nearest_trafficlight(r['X'],r['Y'],LSA), axis=1)"
   ]
  },
  {
   "cell_type": "code",
   "execution_count": 84,
   "metadata": {},
   "outputs": [],
   "source": [
    "LSA.rename(columns={\"LSA-Nr.\": \"LSA_Nr\", 'X': \"LSA_X\", \"Y\": \"LSA_Y\"},inplace= True)"
   ]
  },
  {
   "cell_type": "code",
   "execution_count": 88,
   "metadata": {},
   "outputs": [],
   "source": [
    "LSA.rename(columns={'X': \"LSA_X\", \"Y\": \"LSA_Y\"},inplace= True)"
   ]
  },
  {
   "cell_type": "code",
   "execution_count": 89,
   "metadata": {},
   "outputs": [
    {
     "data": {
      "text/html": [
       "<div>\n",
       "<style scoped>\n",
       "    .dataframe tbody tr th:only-of-type {\n",
       "        vertical-align: middle;\n",
       "    }\n",
       "\n",
       "    .dataframe tbody tr th {\n",
       "        vertical-align: top;\n",
       "    }\n",
       "\n",
       "    .dataframe thead th {\n",
       "        text-align: right;\n",
       "    }\n",
       "</style>\n",
       "<table border=\"1\" class=\"dataframe\">\n",
       "  <thead>\n",
       "    <tr style=\"text-align: right;\">\n",
       "      <th></th>\n",
       "      <th>LSA_Nr</th>\n",
       "      <th>Standort</th>\n",
       "      <th>LSA_X</th>\n",
       "      <th>LSA_Y</th>\n",
       "      <th>zipcode</th>\n",
       "    </tr>\n",
       "  </thead>\n",
       "  <tbody>\n",
       "    <tr>\n",
       "      <th>0</th>\n",
       "      <td>1617</td>\n",
       "      <td>Aachener Straße / Aachener Weiher / Richard-Wa...</td>\n",
       "      <td>6.928991</td>\n",
       "      <td>50.936434</td>\n",
       "      <td>50674</td>\n",
       "    </tr>\n",
       "    <tr>\n",
       "      <th>1</th>\n",
       "      <td>3634</td>\n",
       "      <td>Aachener Straße / Alter Militärring / Auf dem ...</td>\n",
       "      <td>6.881020</td>\n",
       "      <td>50.937725</td>\n",
       "      <td>50933</td>\n",
       "    </tr>\n",
       "    <tr>\n",
       "      <th>2</th>\n",
       "      <td>3656</td>\n",
       "      <td>Aachener Straße / Am Rapohl / Bodelschwinghstraße</td>\n",
       "      <td>6.822827</td>\n",
       "      <td>50.938514</td>\n",
       "      <td>50859</td>\n",
       "    </tr>\n",
       "    <tr>\n",
       "      <th>3</th>\n",
       "      <td>3639</td>\n",
       "      <td>Aachener Straße / Am Römerhof</td>\n",
       "      <td>6.867658</td>\n",
       "      <td>50.937803</td>\n",
       "      <td>50933</td>\n",
       "    </tr>\n",
       "    <tr>\n",
       "      <th>4</th>\n",
       "      <td>3638</td>\n",
       "      <td>Aachener Straße / Am Sportpark Müngersdorf / M...</td>\n",
       "      <td>6.870817</td>\n",
       "      <td>50.937833</td>\n",
       "      <td>50933</td>\n",
       "    </tr>\n",
       "    <tr>\n",
       "      <th>...</th>\n",
       "      <td>...</td>\n",
       "      <td>...</td>\n",
       "      <td>...</td>\n",
       "      <td>...</td>\n",
       "      <td>...</td>\n",
       "    </tr>\n",
       "    <tr>\n",
       "      <th>1964</th>\n",
       "      <td>99966</td>\n",
       "      <td>Schlagbaumsweg / Colonia Allee / Isenburger Ki...</td>\n",
       "      <td>7.044873</td>\n",
       "      <td>50.959772</td>\n",
       "      <td>51067</td>\n",
       "    </tr>\n",
       "    <tr>\n",
       "      <th>1965</th>\n",
       "      <td>99967</td>\n",
       "      <td>Bergisch Gladbacher Str. / Steyler Str.</td>\n",
       "      <td>7.035198</td>\n",
       "      <td>50.967521</td>\n",
       "      <td>51067</td>\n",
       "    </tr>\n",
       "    <tr>\n",
       "      <th>1966</th>\n",
       "      <td>99968</td>\n",
       "      <td>Mielenforster Str. / Bensberger Marktweg</td>\n",
       "      <td>7.073978</td>\n",
       "      <td>50.967476</td>\n",
       "      <td>51069</td>\n",
       "    </tr>\n",
       "    <tr>\n",
       "      <th>1967</th>\n",
       "      <td>99969</td>\n",
       "      <td>Heidelberger Str. / Kopernikusstr.</td>\n",
       "      <td>7.010068</td>\n",
       "      <td>50.952261</td>\n",
       "      <td>51065</td>\n",
       "    </tr>\n",
       "    <tr>\n",
       "      <th>1968</th>\n",
       "      <td>99980</td>\n",
       "      <td>Berliner Str. / Steinkaulerstr. / Buswendeschl...</td>\n",
       "      <td>7.014726</td>\n",
       "      <td>50.975297</td>\n",
       "      <td>51063</td>\n",
       "    </tr>\n",
       "  </tbody>\n",
       "</table>\n",
       "<p>1854 rows × 5 columns</p>\n",
       "</div>"
      ],
      "text/plain": [
       "     LSA_Nr                                           Standort     LSA_X  \\\n",
       "0      1617  Aachener Straße / Aachener Weiher / Richard-Wa...  6.928991   \n",
       "1      3634  Aachener Straße / Alter Militärring / Auf dem ...  6.881020   \n",
       "2      3656  Aachener Straße / Am Rapohl / Bodelschwinghstraße  6.822827   \n",
       "3      3639                      Aachener Straße / Am Römerhof  6.867658   \n",
       "4      3638  Aachener Straße / Am Sportpark Müngersdorf / M...  6.870817   \n",
       "...     ...                                                ...       ...   \n",
       "1964  99966  Schlagbaumsweg / Colonia Allee / Isenburger Ki...  7.044873   \n",
       "1965  99967            Bergisch Gladbacher Str. / Steyler Str.  7.035198   \n",
       "1966  99968           Mielenforster Str. / Bensberger Marktweg  7.073978   \n",
       "1967  99969                 Heidelberger Str. / Kopernikusstr.  7.010068   \n",
       "1968  99980  Berliner Str. / Steinkaulerstr. / Buswendeschl...  7.014726   \n",
       "\n",
       "          LSA_Y zipcode  \n",
       "0     50.936434   50674  \n",
       "1     50.937725   50933  \n",
       "2     50.938514   50859  \n",
       "3     50.937803   50933  \n",
       "4     50.937833   50933  \n",
       "...         ...     ...  \n",
       "1964  50.959772   51067  \n",
       "1965  50.967521   51067  \n",
       "1966  50.967476   51069  \n",
       "1967  50.952261   51065  \n",
       "1968  50.975297   51063  \n",
       "\n",
       "[1854 rows x 5 columns]"
      ]
     },
     "execution_count": 89,
     "metadata": {},
     "output_type": "execute_result"
    }
   ],
   "source": [
    "LSA"
   ]
  },
  {
   "cell_type": "code",
   "execution_count": 90,
   "metadata": {},
   "outputs": [],
   "source": [
    "merged_data = pd.merge(bussgeld, LSA, on=\"LSA_Nr\")"
   ]
  },
  {
   "cell_type": "code",
   "execution_count": 92,
   "metadata": {},
   "outputs": [],
   "source": [
    "merged_data.to_csv(\"finalData.csv\")"
   ]
  },
  {
   "cell_type": "code",
   "execution_count": null,
   "metadata": {},
   "outputs": [],
   "source": []
  }
 ],
 "metadata": {
  "kernelspec": {
   "display_name": "Python 3",
   "language": "python",
   "name": "python3"
  },
  "language_info": {
   "codemirror_mode": {
    "name": "ipython",
    "version": 3
   },
   "file_extension": ".py",
   "mimetype": "text/x-python",
   "name": "python",
   "nbconvert_exporter": "python",
   "pygments_lexer": "ipython3",
   "version": "3.11.3"
  },
  "orig_nbformat": 4
 },
 "nbformat": 4,
 "nbformat_minor": 2
}
